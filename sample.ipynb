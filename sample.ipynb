{
 "cells": [
  {
   "cell_type": "code",
   "execution_count": 44,
   "metadata": {},
   "outputs": [],
   "source": [
    "import streamlit as st\n",
    "import numpy as np\n",
    "import pandas as pd\n",
    "import yfinance as yf"
   ]
  },
  {
   "cell_type": "code",
   "execution_count": 45,
   "metadata": {},
   "outputs": [],
   "source": [
    "df = pd.DataFrame({\n",
    "    '1列目': [1,2,3,4],\n",
    "    '2列目': [10,20,30,40]\n",
    "    })"
   ]
  },
  {
   "cell_type": "code",
   "execution_count": 46,
   "metadata": {},
   "outputs": [
    {
     "output_type": "execute_result",
     "data": {
      "text/plain": [
       "   1列目  2列目\n",
       "0    1   10\n",
       "1    2   20\n",
       "2    3   30\n",
       "3    4   40"
      ],
      "text/html": "<div>\n<style scoped>\n    .dataframe tbody tr th:only-of-type {\n        vertical-align: middle;\n    }\n\n    .dataframe tbody tr th {\n        vertical-align: top;\n    }\n\n    .dataframe thead th {\n        text-align: right;\n    }\n</style>\n<table border=\"1\" class=\"dataframe\">\n  <thead>\n    <tr style=\"text-align: right;\">\n      <th></th>\n      <th>1列目</th>\n      <th>2列目</th>\n    </tr>\n  </thead>\n  <tbody>\n    <tr>\n      <td>0</td>\n      <td>1</td>\n      <td>10</td>\n    </tr>\n    <tr>\n      <td>1</td>\n      <td>2</td>\n      <td>20</td>\n    </tr>\n    <tr>\n      <td>2</td>\n      <td>3</td>\n      <td>30</td>\n    </tr>\n    <tr>\n      <td>3</td>\n      <td>4</td>\n      <td>40</td>\n    </tr>\n  </tbody>\n</table>\n</div>"
     },
     "metadata": {},
     "execution_count": 46
    }
   ],
   "source": [
    "df"
   ]
  },
  {
   "cell_type": "code",
   "execution_count": 59,
   "metadata": {},
   "outputs": [],
   "source": [
    "def get_data(days, tickers):\n",
    "    df = pd.DataFrame()\n",
    "    for company in tickers.keys():\n",
    "        tkr = yf.Ticker(tickers[company])\n",
    "        hist = tkr.history(period=f'{days}d')\n",
    "        hist.index = hist.index.strftime('%d %B %Y')\n",
    "        hist = hist[['Close']]\n",
    "        hist.columns = [company]\n",
    "        #hist = hist.T\n",
    "        hist.index.name = 'Date'\n",
    "        hist = hist.T\n",
    "        df = pd.concat([df,hist])\n",
    "    return df"
   ]
  },
  {
   "cell_type": "code",
   "execution_count": 60,
   "metadata": {},
   "outputs": [],
   "source": [
    "days= 20\n",
    "tickers = {\n",
    "    'apple': 'AAPL',\n",
    "    'facebook': 'FB',\n",
    "    'google': 'GOOGL',\n",
    "    'microsoft': 'MSFT',\n",
    "    'netflix': 'NFLX',\n",
    "    'amazon': 'AMZN'\n",
    "}\n",
    "df = get_data(days, tickers)"
   ]
  },
  {
   "cell_type": "code",
   "execution_count": 61,
   "metadata": {},
   "outputs": [
    {
     "output_type": "execute_result",
     "data": {
      "text/plain": [
       "Date       24 June 2021  25 June 2021  28 June 2021  29 June 2021  \\\n",
       "apple        133.410004    133.110001    134.779999    136.330002   \n",
       "facebook     343.179993    341.369995    355.640015    351.890015   \n",
       "google      2450.000000   2450.169922   2450.719971   2445.449951   \n",
       "microsoft    266.690002    265.019989    268.720001    271.399994   \n",
       "netflix      518.059998    527.070007    533.030029    533.500000   \n",
       "amazon      3449.080078   3401.459961   3443.889893   3448.139893   \n",
       "\n",
       "Date       30 June 2021  01 July 2021  02 July 2021  06 July 2021  \\\n",
       "apple        136.960007    137.270004    139.960007    142.020004   \n",
       "facebook     347.709991    354.390015    354.700012    352.779999   \n",
       "google      2441.790039   2448.889893   2505.149902   2523.800049   \n",
       "microsoft    270.899994    271.600006    277.649994    277.660004   \n",
       "netflix      528.210022    533.539978    533.979980    541.640015   \n",
       "amazon      3440.159912   3432.969971   3510.979980   3675.739990   \n",
       "\n",
       "Date       07 July 2021  08 July 2021  09 July 2021  12 July 2021  \\\n",
       "apple        144.570007    143.240005    145.110001    144.500000   \n",
       "facebook     350.489990    345.649994    350.420013    353.160004   \n",
       "google      2529.479980   2500.879883   2510.370117   2539.510010   \n",
       "microsoft    279.929993    277.420013    277.940002    277.320007   \n",
       "netflix      535.960022    530.760010    535.979980    537.309998   \n",
       "amazon      3696.580078   3731.409912   3719.340088   3718.550049   \n",
       "\n",
       "Date       13 July 2021  14 July 2021  15 July 2021  16 July 2021  \\\n",
       "apple        145.639999    149.149994    148.479996    146.389999   \n",
       "facebook     352.089996    347.630005    344.459991    341.160004   \n",
       "google      2546.830078   2564.739990   2540.100098   2539.399902   \n",
       "microsoft    280.980011    282.510010    281.029999    280.750000   \n",
       "netflix      540.679993    547.950012    542.950012    530.309998   \n",
       "amazon      3677.360107   3681.679932   3631.199951   3573.629883   \n",
       "\n",
       "Date       19 July 2021  20 July 2021  21 July 2021  22 July 2021  \n",
       "apple        142.449997    146.149994    145.399994    146.800003  \n",
       "facebook     336.950012    341.660004    346.230011    351.190002  \n",
       "google      2491.560059   2524.189941   2550.979980   2568.429932  \n",
       "microsoft    277.010010    279.320007    281.399994    286.140015  \n",
       "netflix      532.280029    531.049988    513.630005    511.769989  \n",
       "amazon      3549.590088   3573.189941   3585.199951   3638.030029  "
      ],
      "text/html": "<div>\n<style scoped>\n    .dataframe tbody tr th:only-of-type {\n        vertical-align: middle;\n    }\n\n    .dataframe tbody tr th {\n        vertical-align: top;\n    }\n\n    .dataframe thead th {\n        text-align: right;\n    }\n</style>\n<table border=\"1\" class=\"dataframe\">\n  <thead>\n    <tr style=\"text-align: right;\">\n      <th>Date</th>\n      <th>24 June 2021</th>\n      <th>25 June 2021</th>\n      <th>28 June 2021</th>\n      <th>29 June 2021</th>\n      <th>30 June 2021</th>\n      <th>01 July 2021</th>\n      <th>02 July 2021</th>\n      <th>06 July 2021</th>\n      <th>07 July 2021</th>\n      <th>08 July 2021</th>\n      <th>09 July 2021</th>\n      <th>12 July 2021</th>\n      <th>13 July 2021</th>\n      <th>14 July 2021</th>\n      <th>15 July 2021</th>\n      <th>16 July 2021</th>\n      <th>19 July 2021</th>\n      <th>20 July 2021</th>\n      <th>21 July 2021</th>\n      <th>22 July 2021</th>\n    </tr>\n  </thead>\n  <tbody>\n    <tr>\n      <td>apple</td>\n      <td>133.410004</td>\n      <td>133.110001</td>\n      <td>134.779999</td>\n      <td>136.330002</td>\n      <td>136.960007</td>\n      <td>137.270004</td>\n      <td>139.960007</td>\n      <td>142.020004</td>\n      <td>144.570007</td>\n      <td>143.240005</td>\n      <td>145.110001</td>\n      <td>144.500000</td>\n      <td>145.639999</td>\n      <td>149.149994</td>\n      <td>148.479996</td>\n      <td>146.389999</td>\n      <td>142.449997</td>\n      <td>146.149994</td>\n      <td>145.399994</td>\n      <td>146.800003</td>\n    </tr>\n    <tr>\n      <td>facebook</td>\n      <td>343.179993</td>\n      <td>341.369995</td>\n      <td>355.640015</td>\n      <td>351.890015</td>\n      <td>347.709991</td>\n      <td>354.390015</td>\n      <td>354.700012</td>\n      <td>352.779999</td>\n      <td>350.489990</td>\n      <td>345.649994</td>\n      <td>350.420013</td>\n      <td>353.160004</td>\n      <td>352.089996</td>\n      <td>347.630005</td>\n      <td>344.459991</td>\n      <td>341.160004</td>\n      <td>336.950012</td>\n      <td>341.660004</td>\n      <td>346.230011</td>\n      <td>351.190002</td>\n    </tr>\n    <tr>\n      <td>google</td>\n      <td>2450.000000</td>\n      <td>2450.169922</td>\n      <td>2450.719971</td>\n      <td>2445.449951</td>\n      <td>2441.790039</td>\n      <td>2448.889893</td>\n      <td>2505.149902</td>\n      <td>2523.800049</td>\n      <td>2529.479980</td>\n      <td>2500.879883</td>\n      <td>2510.370117</td>\n      <td>2539.510010</td>\n      <td>2546.830078</td>\n      <td>2564.739990</td>\n      <td>2540.100098</td>\n      <td>2539.399902</td>\n      <td>2491.560059</td>\n      <td>2524.189941</td>\n      <td>2550.979980</td>\n      <td>2568.429932</td>\n    </tr>\n    <tr>\n      <td>microsoft</td>\n      <td>266.690002</td>\n      <td>265.019989</td>\n      <td>268.720001</td>\n      <td>271.399994</td>\n      <td>270.899994</td>\n      <td>271.600006</td>\n      <td>277.649994</td>\n      <td>277.660004</td>\n      <td>279.929993</td>\n      <td>277.420013</td>\n      <td>277.940002</td>\n      <td>277.320007</td>\n      <td>280.980011</td>\n      <td>282.510010</td>\n      <td>281.029999</td>\n      <td>280.750000</td>\n      <td>277.010010</td>\n      <td>279.320007</td>\n      <td>281.399994</td>\n      <td>286.140015</td>\n    </tr>\n    <tr>\n      <td>netflix</td>\n      <td>518.059998</td>\n      <td>527.070007</td>\n      <td>533.030029</td>\n      <td>533.500000</td>\n      <td>528.210022</td>\n      <td>533.539978</td>\n      <td>533.979980</td>\n      <td>541.640015</td>\n      <td>535.960022</td>\n      <td>530.760010</td>\n      <td>535.979980</td>\n      <td>537.309998</td>\n      <td>540.679993</td>\n      <td>547.950012</td>\n      <td>542.950012</td>\n      <td>530.309998</td>\n      <td>532.280029</td>\n      <td>531.049988</td>\n      <td>513.630005</td>\n      <td>511.769989</td>\n    </tr>\n    <tr>\n      <td>amazon</td>\n      <td>3449.080078</td>\n      <td>3401.459961</td>\n      <td>3443.889893</td>\n      <td>3448.139893</td>\n      <td>3440.159912</td>\n      <td>3432.969971</td>\n      <td>3510.979980</td>\n      <td>3675.739990</td>\n      <td>3696.580078</td>\n      <td>3731.409912</td>\n      <td>3719.340088</td>\n      <td>3718.550049</td>\n      <td>3677.360107</td>\n      <td>3681.679932</td>\n      <td>3631.199951</td>\n      <td>3573.629883</td>\n      <td>3549.590088</td>\n      <td>3573.189941</td>\n      <td>3585.199951</td>\n      <td>3638.030029</td>\n    </tr>\n  </tbody>\n</table>\n</div>"
     },
     "metadata": {},
     "execution_count": 61
    }
   ],
   "source": [
    "df"
   ]
  },
  {
   "cell_type": "code",
   "execution_count": 62,
   "metadata": {},
   "outputs": [
    {
     "output_type": "execute_result",
     "data": {
      "text/plain": [
       "Index(['apple', 'facebook', 'google', 'microsoft', 'netflix', 'amazon'], dtype='object')"
      ]
     },
     "metadata": {},
     "execution_count": 62
    }
   ],
   "source": [
    "df.index"
   ]
  },
  {
   "cell_type": "code",
   "execution_count": 64,
   "metadata": {},
   "outputs": [],
   "source": [
    "aapl = yf.Ticker('AAPL')\n",
    "days = 20\n",
    "hist = aapl.history(period=f'{days}d')"
   ]
  },
  {
   "cell_type": "code",
   "execution_count": 66,
   "metadata": {},
   "outputs": [
    {
     "output_type": "execute_result",
     "data": {
      "text/plain": [
       "         Date        Open        High         Low       Close     Volume  \\\n",
       "0  2021-06-24  134.449997  134.639999  132.929993  133.410004   68711000   \n",
       "1  2021-06-25  133.460007  133.889999  132.809998  133.110001   70783700   \n",
       "2  2021-06-28  133.410004  135.250000  133.350006  134.779999   62111300   \n",
       "3  2021-06-29  134.800003  136.490005  134.350006  136.330002   64556100   \n",
       "4  2021-06-30  136.169998  137.410004  135.869995  136.960007   63261400   \n",
       "5  2021-07-01  136.600006  137.330002  135.759995  137.270004   52485800   \n",
       "6  2021-07-02  137.899994  140.000000  137.750000  139.960007   78852600   \n",
       "7  2021-07-06  140.070007  143.149994  140.070007  142.020004  108181800   \n",
       "8  2021-07-07  143.539993  144.889999  142.660004  144.570007  104911600   \n",
       "9  2021-07-08  141.580002  144.059998  140.669998  143.240005  105575500   \n",
       "10 2021-07-09  142.750000  145.649994  142.649994  145.110001   99788400   \n",
       "11 2021-07-12  146.210007  146.320007  144.000000  144.500000   76299700   \n",
       "12 2021-07-13  144.029999  147.460007  143.630005  145.639999  100827100   \n",
       "13 2021-07-14  148.100006  149.570007  147.679993  149.149994  127050800   \n",
       "14 2021-07-15  149.240005  150.000000  147.089996  148.479996  106820300   \n",
       "15 2021-07-16  148.460007  149.759995  145.880005  146.389999   93100300   \n",
       "16 2021-07-19  143.750000  144.070007  141.669998  142.449997  121434600   \n",
       "17 2021-07-20  143.460007  147.100006  142.960007  146.149994   96238600   \n",
       "18 2021-07-21  145.529999  146.130005  144.630005  145.399994   74915000   \n",
       "19 2021-07-22  145.940002  148.199997  145.809998  146.800003   77246300   \n",
       "\n",
       "    Dividends  Stock Splits  \n",
       "0           0             0  \n",
       "1           0             0  \n",
       "2           0             0  \n",
       "3           0             0  \n",
       "4           0             0  \n",
       "5           0             0  \n",
       "6           0             0  \n",
       "7           0             0  \n",
       "8           0             0  \n",
       "9           0             0  \n",
       "10          0             0  \n",
       "11          0             0  \n",
       "12          0             0  \n",
       "13          0             0  \n",
       "14          0             0  \n",
       "15          0             0  \n",
       "16          0             0  \n",
       "17          0             0  \n",
       "18          0             0  \n",
       "19          0             0  "
      ],
      "text/html": "<div>\n<style scoped>\n    .dataframe tbody tr th:only-of-type {\n        vertical-align: middle;\n    }\n\n    .dataframe tbody tr th {\n        vertical-align: top;\n    }\n\n    .dataframe thead th {\n        text-align: right;\n    }\n</style>\n<table border=\"1\" class=\"dataframe\">\n  <thead>\n    <tr style=\"text-align: right;\">\n      <th></th>\n      <th>Date</th>\n      <th>Open</th>\n      <th>High</th>\n      <th>Low</th>\n      <th>Close</th>\n      <th>Volume</th>\n      <th>Dividends</th>\n      <th>Stock Splits</th>\n    </tr>\n  </thead>\n  <tbody>\n    <tr>\n      <td>0</td>\n      <td>2021-06-24</td>\n      <td>134.449997</td>\n      <td>134.639999</td>\n      <td>132.929993</td>\n      <td>133.410004</td>\n      <td>68711000</td>\n      <td>0</td>\n      <td>0</td>\n    </tr>\n    <tr>\n      <td>1</td>\n      <td>2021-06-25</td>\n      <td>133.460007</td>\n      <td>133.889999</td>\n      <td>132.809998</td>\n      <td>133.110001</td>\n      <td>70783700</td>\n      <td>0</td>\n      <td>0</td>\n    </tr>\n    <tr>\n      <td>2</td>\n      <td>2021-06-28</td>\n      <td>133.410004</td>\n      <td>135.250000</td>\n      <td>133.350006</td>\n      <td>134.779999</td>\n      <td>62111300</td>\n      <td>0</td>\n      <td>0</td>\n    </tr>\n    <tr>\n      <td>3</td>\n      <td>2021-06-29</td>\n      <td>134.800003</td>\n      <td>136.490005</td>\n      <td>134.350006</td>\n      <td>136.330002</td>\n      <td>64556100</td>\n      <td>0</td>\n      <td>0</td>\n    </tr>\n    <tr>\n      <td>4</td>\n      <td>2021-06-30</td>\n      <td>136.169998</td>\n      <td>137.410004</td>\n      <td>135.869995</td>\n      <td>136.960007</td>\n      <td>63261400</td>\n      <td>0</td>\n      <td>0</td>\n    </tr>\n    <tr>\n      <td>5</td>\n      <td>2021-07-01</td>\n      <td>136.600006</td>\n      <td>137.330002</td>\n      <td>135.759995</td>\n      <td>137.270004</td>\n      <td>52485800</td>\n      <td>0</td>\n      <td>0</td>\n    </tr>\n    <tr>\n      <td>6</td>\n      <td>2021-07-02</td>\n      <td>137.899994</td>\n      <td>140.000000</td>\n      <td>137.750000</td>\n      <td>139.960007</td>\n      <td>78852600</td>\n      <td>0</td>\n      <td>0</td>\n    </tr>\n    <tr>\n      <td>7</td>\n      <td>2021-07-06</td>\n      <td>140.070007</td>\n      <td>143.149994</td>\n      <td>140.070007</td>\n      <td>142.020004</td>\n      <td>108181800</td>\n      <td>0</td>\n      <td>0</td>\n    </tr>\n    <tr>\n      <td>8</td>\n      <td>2021-07-07</td>\n      <td>143.539993</td>\n      <td>144.889999</td>\n      <td>142.660004</td>\n      <td>144.570007</td>\n      <td>104911600</td>\n      <td>0</td>\n      <td>0</td>\n    </tr>\n    <tr>\n      <td>9</td>\n      <td>2021-07-08</td>\n      <td>141.580002</td>\n      <td>144.059998</td>\n      <td>140.669998</td>\n      <td>143.240005</td>\n      <td>105575500</td>\n      <td>0</td>\n      <td>0</td>\n    </tr>\n    <tr>\n      <td>10</td>\n      <td>2021-07-09</td>\n      <td>142.750000</td>\n      <td>145.649994</td>\n      <td>142.649994</td>\n      <td>145.110001</td>\n      <td>99788400</td>\n      <td>0</td>\n      <td>0</td>\n    </tr>\n    <tr>\n      <td>11</td>\n      <td>2021-07-12</td>\n      <td>146.210007</td>\n      <td>146.320007</td>\n      <td>144.000000</td>\n      <td>144.500000</td>\n      <td>76299700</td>\n      <td>0</td>\n      <td>0</td>\n    </tr>\n    <tr>\n      <td>12</td>\n      <td>2021-07-13</td>\n      <td>144.029999</td>\n      <td>147.460007</td>\n      <td>143.630005</td>\n      <td>145.639999</td>\n      <td>100827100</td>\n      <td>0</td>\n      <td>0</td>\n    </tr>\n    <tr>\n      <td>13</td>\n      <td>2021-07-14</td>\n      <td>148.100006</td>\n      <td>149.570007</td>\n      <td>147.679993</td>\n      <td>149.149994</td>\n      <td>127050800</td>\n      <td>0</td>\n      <td>0</td>\n    </tr>\n    <tr>\n      <td>14</td>\n      <td>2021-07-15</td>\n      <td>149.240005</td>\n      <td>150.000000</td>\n      <td>147.089996</td>\n      <td>148.479996</td>\n      <td>106820300</td>\n      <td>0</td>\n      <td>0</td>\n    </tr>\n    <tr>\n      <td>15</td>\n      <td>2021-07-16</td>\n      <td>148.460007</td>\n      <td>149.759995</td>\n      <td>145.880005</td>\n      <td>146.389999</td>\n      <td>93100300</td>\n      <td>0</td>\n      <td>0</td>\n    </tr>\n    <tr>\n      <td>16</td>\n      <td>2021-07-19</td>\n      <td>143.750000</td>\n      <td>144.070007</td>\n      <td>141.669998</td>\n      <td>142.449997</td>\n      <td>121434600</td>\n      <td>0</td>\n      <td>0</td>\n    </tr>\n    <tr>\n      <td>17</td>\n      <td>2021-07-20</td>\n      <td>143.460007</td>\n      <td>147.100006</td>\n      <td>142.960007</td>\n      <td>146.149994</td>\n      <td>96238600</td>\n      <td>0</td>\n      <td>0</td>\n    </tr>\n    <tr>\n      <td>18</td>\n      <td>2021-07-21</td>\n      <td>145.529999</td>\n      <td>146.130005</td>\n      <td>144.630005</td>\n      <td>145.399994</td>\n      <td>74915000</td>\n      <td>0</td>\n      <td>0</td>\n    </tr>\n    <tr>\n      <td>19</td>\n      <td>2021-07-22</td>\n      <td>145.940002</td>\n      <td>148.199997</td>\n      <td>145.809998</td>\n      <td>146.800003</td>\n      <td>77246300</td>\n      <td>0</td>\n      <td>0</td>\n    </tr>\n  </tbody>\n</table>\n</div>"
     },
     "metadata": {},
     "execution_count": 66
    }
   ],
   "source": [
    "hist.reset_index()"
   ]
  },
  {
   "cell_type": "code",
   "execution_count": 80,
   "metadata": {},
   "outputs": [
    {
     "output_type": "error",
     "ename": "ValueError",
     "evalue": "Length mismatch: Expected axis has 2 elements, new values have 1 elements",
     "traceback": [
      "\u001b[1;31m---------------------------------------------------------------------------\u001b[0m",
      "\u001b[1;31mValueError\u001b[0m                                Traceback (most recent call last)",
      "\u001b[1;32m<ipython-input-80-16e09ee49dbf>\u001b[0m in \u001b[0;36m<module>\u001b[1;34m\u001b[0m\n\u001b[0;32m     17\u001b[0m     \u001b[1;31m#hist.index = hist.index.strftime('%d %B %Y')\u001b[0m\u001b[1;33m\u001b[0m\u001b[1;33m\u001b[0m\u001b[1;33m\u001b[0m\u001b[0m\n\u001b[0;32m     18\u001b[0m     \u001b[0mhist\u001b[0m \u001b[1;33m=\u001b[0m \u001b[0mhist\u001b[0m\u001b[1;33m[\u001b[0m\u001b[1;33m[\u001b[0m\u001b[1;34m'Date'\u001b[0m\u001b[1;33m,\u001b[0m\u001b[1;34m'Close'\u001b[0m\u001b[1;33m]\u001b[0m\u001b[1;33m]\u001b[0m\u001b[1;33m\u001b[0m\u001b[1;33m\u001b[0m\u001b[0m\n\u001b[1;32m---> 19\u001b[1;33m     \u001b[0mhist\u001b[0m\u001b[1;33m.\u001b[0m\u001b[0mcolumns\u001b[0m \u001b[1;33m=\u001b[0m \u001b[1;33m[\u001b[0m\u001b[0mcompany\u001b[0m\u001b[1;33m]\u001b[0m\u001b[1;33m\u001b[0m\u001b[1;33m\u001b[0m\u001b[0m\n\u001b[0m\u001b[0;32m     20\u001b[0m     \u001b[0mhist\u001b[0m \u001b[1;33m=\u001b[0m \u001b[0mhist\u001b[0m\u001b[1;33m.\u001b[0m\u001b[0mT\u001b[0m\u001b[1;33m\u001b[0m\u001b[1;33m\u001b[0m\u001b[0m\n\u001b[0;32m     21\u001b[0m     \u001b[0mhist\u001b[0m\u001b[1;33m.\u001b[0m\u001b[0mindex\u001b[0m\u001b[1;33m.\u001b[0m\u001b[0mname\u001b[0m \u001b[1;33m=\u001b[0m \u001b[1;34m'Name'\u001b[0m\u001b[1;33m\u001b[0m\u001b[1;33m\u001b[0m\u001b[0m\n",
      "\u001b[1;32mC:\\ProgramData\\Anaconda3\\lib\\site-packages\\pandas\\core\\generic.py\u001b[0m in \u001b[0;36m__setattr__\u001b[1;34m(self, name, value)\u001b[0m\n\u001b[0;32m   5190\u001b[0m         \u001b[1;32mtry\u001b[0m\u001b[1;33m:\u001b[0m\u001b[1;33m\u001b[0m\u001b[1;33m\u001b[0m\u001b[0m\n\u001b[0;32m   5191\u001b[0m             \u001b[0mobject\u001b[0m\u001b[1;33m.\u001b[0m\u001b[0m__getattribute__\u001b[0m\u001b[1;33m(\u001b[0m\u001b[0mself\u001b[0m\u001b[1;33m,\u001b[0m \u001b[0mname\u001b[0m\u001b[1;33m)\u001b[0m\u001b[1;33m\u001b[0m\u001b[1;33m\u001b[0m\u001b[0m\n\u001b[1;32m-> 5192\u001b[1;33m             \u001b[1;32mreturn\u001b[0m \u001b[0mobject\u001b[0m\u001b[1;33m.\u001b[0m\u001b[0m__setattr__\u001b[0m\u001b[1;33m(\u001b[0m\u001b[0mself\u001b[0m\u001b[1;33m,\u001b[0m \u001b[0mname\u001b[0m\u001b[1;33m,\u001b[0m \u001b[0mvalue\u001b[0m\u001b[1;33m)\u001b[0m\u001b[1;33m\u001b[0m\u001b[1;33m\u001b[0m\u001b[0m\n\u001b[0m\u001b[0;32m   5193\u001b[0m         \u001b[1;32mexcept\u001b[0m \u001b[0mAttributeError\u001b[0m\u001b[1;33m:\u001b[0m\u001b[1;33m\u001b[0m\u001b[1;33m\u001b[0m\u001b[0m\n\u001b[0;32m   5194\u001b[0m             \u001b[1;32mpass\u001b[0m\u001b[1;33m\u001b[0m\u001b[1;33m\u001b[0m\u001b[0m\n",
      "\u001b[1;32mpandas\\_libs\\properties.pyx\u001b[0m in \u001b[0;36mpandas._libs.properties.AxisProperty.__set__\u001b[1;34m()\u001b[0m\n",
      "\u001b[1;32mC:\\ProgramData\\Anaconda3\\lib\\site-packages\\pandas\\core\\generic.py\u001b[0m in \u001b[0;36m_set_axis\u001b[1;34m(self, axis, labels)\u001b[0m\n\u001b[0;32m    688\u001b[0m \u001b[1;33m\u001b[0m\u001b[0m\n\u001b[0;32m    689\u001b[0m     \u001b[1;32mdef\u001b[0m \u001b[0m_set_axis\u001b[0m\u001b[1;33m(\u001b[0m\u001b[0mself\u001b[0m\u001b[1;33m,\u001b[0m \u001b[0maxis\u001b[0m\u001b[1;33m,\u001b[0m \u001b[0mlabels\u001b[0m\u001b[1;33m)\u001b[0m\u001b[1;33m:\u001b[0m\u001b[1;33m\u001b[0m\u001b[1;33m\u001b[0m\u001b[0m\n\u001b[1;32m--> 690\u001b[1;33m         \u001b[0mself\u001b[0m\u001b[1;33m.\u001b[0m\u001b[0m_data\u001b[0m\u001b[1;33m.\u001b[0m\u001b[0mset_axis\u001b[0m\u001b[1;33m(\u001b[0m\u001b[0maxis\u001b[0m\u001b[1;33m,\u001b[0m \u001b[0mlabels\u001b[0m\u001b[1;33m)\u001b[0m\u001b[1;33m\u001b[0m\u001b[1;33m\u001b[0m\u001b[0m\n\u001b[0m\u001b[0;32m    691\u001b[0m         \u001b[0mself\u001b[0m\u001b[1;33m.\u001b[0m\u001b[0m_clear_item_cache\u001b[0m\u001b[1;33m(\u001b[0m\u001b[1;33m)\u001b[0m\u001b[1;33m\u001b[0m\u001b[1;33m\u001b[0m\u001b[0m\n\u001b[0;32m    692\u001b[0m \u001b[1;33m\u001b[0m\u001b[0m\n",
      "\u001b[1;32mC:\\ProgramData\\Anaconda3\\lib\\site-packages\\pandas\\core\\internals\\managers.py\u001b[0m in \u001b[0;36mset_axis\u001b[1;34m(self, axis, new_labels)\u001b[0m\n\u001b[0;32m    181\u001b[0m             raise ValueError(\n\u001b[0;32m    182\u001b[0m                 \u001b[1;34m\"Length mismatch: Expected axis has {old} elements, new \"\u001b[0m\u001b[1;33m\u001b[0m\u001b[1;33m\u001b[0m\u001b[0m\n\u001b[1;32m--> 183\u001b[1;33m                 \u001b[1;34m\"values have {new} elements\"\u001b[0m\u001b[1;33m.\u001b[0m\u001b[0mformat\u001b[0m\u001b[1;33m(\u001b[0m\u001b[0mold\u001b[0m\u001b[1;33m=\u001b[0m\u001b[0mold_len\u001b[0m\u001b[1;33m,\u001b[0m \u001b[0mnew\u001b[0m\u001b[1;33m=\u001b[0m\u001b[0mnew_len\u001b[0m\u001b[1;33m)\u001b[0m\u001b[1;33m\u001b[0m\u001b[1;33m\u001b[0m\u001b[0m\n\u001b[0m\u001b[0;32m    184\u001b[0m             )\n\u001b[0;32m    185\u001b[0m \u001b[1;33m\u001b[0m\u001b[0m\n",
      "\u001b[1;31mValueError\u001b[0m: Length mismatch: Expected axis has 2 elements, new values have 1 elements"
     ]
    }
   ],
   "source": [
    "#def get_data(days, tickers):\n",
    "days = 20\n",
    "tickers = {\n",
    "    'apple': 'AAPL',\n",
    "    'facebook': 'FB',\n",
    "    'google': 'GOOGL',\n",
    "    'microsoft': 'MSFT',\n",
    "    'netflix': 'NFLX',\n",
    "    'amazon': 'AMZN'\n",
    "}\n",
    "\n",
    "df = pd.DataFrame()\n",
    "for company in tickers.keys():\n",
    "    tkr = yf.Ticker(tickers[company])\n",
    "    hist = tkr.history(period=f'{days}d')\n",
    "    hist =hist.reset_index()\n",
    "    #hist.index = hist.index.strftime('%d %B %Y')\n",
    "    hist = hist[['Date','Close']]\n",
    "    hist.columns = [['Date','Company']]\n",
    "    hist = hist.T\n",
    "    hist.index.name = 'Name'\n",
    "    df = pd.concat([df, hist])\n",
    "print(df)"
   ]
  },
  {
   "cell_type": "code",
   "execution_count": 79,
   "metadata": {},
   "outputs": [
    {
     "output_type": "stream",
     "name": "stdout",
     "text": [
      "         Date        Close\n0  2021-06-24  3449.080078\n1  2021-06-25  3401.459961\n2  2021-06-28  3443.889893\n3  2021-06-29  3448.139893\n4  2021-06-30  3440.159912\n5  2021-07-01  3432.969971\n6  2021-07-02  3510.979980\n7  2021-07-06  3675.739990\n8  2021-07-07  3696.580078\n9  2021-07-08  3731.409912\n10 2021-07-09  3719.340088\n11 2021-07-12  3718.550049\n12 2021-07-13  3677.360107\n13 2021-07-14  3681.679932\n14 2021-07-15  3631.199951\n15 2021-07-16  3573.629883\n16 2021-07-19  3549.590088\n17 2021-07-20  3573.189941\n18 2021-07-21  3585.199951\n19 2021-07-22  3638.030029\n"
     ]
    }
   ],
   "source": [
    "days = 20\n",
    "tickers = {\n",
    "    'amazon': 'AMZN',\n",
    "}\n",
    "\n",
    "#df = pd.DataFrame()\n",
    "tkr = yf.Ticker(tickers[company])\n",
    "hist = tkr.history(period=f'{days}d')\n",
    "hist =hist.reset_index()\n",
    "#hist.index = hist.index.strftime('%d %B %Y')\n",
    "hist = hist[['Date','Close']]\n",
    "# hist.columns = [company]\n",
    "# hist = hist.T\n",
    "# hist.index.name = 'Name'\n",
    "#df = pd.concat([df, hist])\n",
    "print(hist)"
   ]
  },
  {
   "cell_type": "code",
   "execution_count": null,
   "metadata": {},
   "outputs": [],
   "source": []
  }
 ],
 "metadata": {
  "kernelspec": {
   "name": "python3",
   "display_name": "Python 3.7.4 64-bit (conda)"
  },
  "interpreter": {
   "hash": "b3ba2566441a7c06988d0923437866b63cedc61552a5af99d1f4fb67d367b25f"
  },
  "language_info": {
   "name": "python",
   "version": "3.7.4"
  }
 },
 "nbformat": 4,
 "nbformat_minor": 2
}